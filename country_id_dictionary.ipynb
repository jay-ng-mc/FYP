{
 "cells": [
  {
   "cell_type": "code",
   "execution_count": 1,
   "metadata": {},
   "outputs": [],
   "source": [
    "import json, io\n",
    "import requests"
   ]
  },
  {
   "cell_type": "markdown",
   "metadata": {},
   "source": [
    "# # Fetch and save country ids (optional) # #"
   ]
  },
  {
   "cell_type": "code",
   "execution_count": 2,
   "metadata": {},
   "outputs": [],
   "source": [
    "# fetch and build dictionary of country ids (id to name)\n",
    "r = requests.get('https://comtrade.un.org/Data/cache/reporterAreas.json')\n",
    "p = requests.get('https://comtrade.un.org/Data/cache/partnerAreas.json')\n",
    "\n",
    "i2c = {}\n",
    "for l in [r, p]:\n",
    "    for t in l.json()['results']:\n",
    "        i2c[t['id']] = t['text']"
   ]
  },
  {
   "cell_type": "code",
   "execution_count": 3,
   "metadata": {},
   "outputs": [],
   "source": [
    "# write data to file, OPTIONAL\n",
    "out = json.dumps(i2c)\n",
    "f = open(\"id_to_country.json\",\"w\")\n",
    "f.write(out)\n",
    "f.close()"
   ]
  },
  {
   "cell_type": "markdown",
   "metadata": {},
   "source": [
    "# # Load saved country ids and search for country names # #"
   ]
  },
  {
   "cell_type": "code",
   "execution_count": 4,
   "metadata": {},
   "outputs": [],
   "source": [
    "# load dictionary from file\n",
    "i2c_json = open('id_to_country.json').read()\n",
    "string_io = io.StringIO(i2c_json)\n",
    "i2c = json.load(string_io)"
   ]
  },
  {
   "cell_type": "code",
   "execution_count": 5,
   "metadata": {},
   "outputs": [
    {
     "name": "stdout",
     "output_type": "stream",
     "text": [
      "France\n",
      "United Kingdom\n",
      "Netherlands\n",
      "USA\n",
      "Italy\n",
      "Spain\n",
      "Belgium\n",
      "India\n",
      "Switzerland\n",
      "China\n",
      "Australia\n",
      "New Zealand\n"
     ]
    }
   ],
   "source": [
    "# put id to look up in array, country names will be printed\n",
    "ids = [251, 826, 528, 842, 381, 724, 56, 699, 757, 156, 36, 554]\n",
    "for i in ids:\n",
    "    print(i2c[str(i)])"
   ]
  },
  {
   "cell_type": "code",
   "execution_count": 6,
   "metadata": {},
   "outputs": [
    {
     "name": "stdout",
     "output_type": "stream",
     "text": [
      "156\n",
      "344\n",
      "446\n"
     ]
    }
   ],
   "source": [
    "# Look up substring in country name, country ID gets printed\n",
    "for e in i2c.items():\n",
    "    if 'China' in e[1]: print(e[0])"
   ]
  },
  {
   "cell_type": "markdown",
   "metadata": {},
   "source": [
    "# # Fetch and save commodity trade good id (to trade good name) # #"
   ]
  },
  {
   "cell_type": "code",
   "execution_count": 7,
   "metadata": {},
   "outputs": [],
   "source": [
    "# Fetch data\n",
    "hs_codes_results = requests.get('https://comtrade.un.org/Data/cache/classificationHS.json').json()['results']\n",
    "hs_codes = {x['id']:x['text'] for x in hs_codes_results if len(x['id']) == 2}\n",
    "\n",
    "# write to json\n",
    "out = json.dumps(hs_codes)\n",
    "f = open(\"hs_to_name.json\",\"w\")\n",
    "f.write(out)\n",
    "f.close()"
   ]
  },
  {
   "cell_type": "markdown",
   "metadata": {},
   "source": [
    "# # Load trade good ids from file and search for trade good names # #"
   ]
  },
  {
   "cell_type": "code",
   "execution_count": 8,
   "metadata": {},
   "outputs": [
    {
     "name": "stdout",
     "output_type": "stream",
     "text": [
      "02 - Meat and edible meat offal\n",
      "04 - Dairy produce; birds' eggs; natural honey; edible products of animal origin, not elsewhere specified or included\n",
      "44 - Wood and articles of wood; wood charcoal\n",
      "51 - Wool, fine or coarse animal hair; horsehair yarn and woven fabric\n"
     ]
    }
   ],
   "source": [
    "# build dictionary from saved data\n",
    "hs_codes_json = open('hs_to_name.json').read()\n",
    "string_io = io.StringIO(hs_codes_json)\n",
    "hs_codes = json.load(string_io)\n",
    "\n",
    "# commodity id lookup - put ids to query in ids array and trade good names get printed\n",
    "ids = [2,4,44,51]\n",
    "for i in ids:\n",
    "    print(hs_codes[str(i).zfill(2)])"
   ]
  }
 ],
 "metadata": {
  "kernelspec": {
   "display_name": "Python 3",
   "language": "python",
   "name": "python3"
  },
  "language_info": {
   "codemirror_mode": {
    "name": "ipython",
    "version": 3
   },
   "file_extension": ".py",
   "mimetype": "text/x-python",
   "name": "python",
   "nbconvert_exporter": "python",
   "pygments_lexer": "ipython3",
   "version": "3.8.5"
  }
 },
 "nbformat": 4,
 "nbformat_minor": 4
}
